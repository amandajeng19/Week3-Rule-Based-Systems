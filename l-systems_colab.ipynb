{
  "cells": [
    {
      "cell_type": "markdown",
      "metadata": {
        "id": "_P9UyQbObKva"
      },
      "source": [
        "<a href=\"https://colab.research.google.com/github/IAT-ComputationalCreativity-Spring2025/Week3-Rule-Based-Systems/blob/main/l-systems_colab.ipynb\" target=\"_parent\"><img src=\"https://colab.research.google.com/assets/colab-badge.svg\" alt=\"Open In Colab\"/></a>"
      ]
    },
    {
      "cell_type": "markdown",
      "metadata": {
        "id": "dvVyuBa1bKvb"
      },
      "source": [
        "# L-Systems (Lindenmayer Systems) Lab\n",
        "\n",
        "## Introduction\n",
        "\n",
        "L-Systems are parallel rewriting systems that were introduced by Aristid Lindenmayer in 1968. They are particularly useful for modeling plant growth and generating fractals. In this lab, we'll explore how to create various patterns using L-Systems.\n",
        "\n",
        "### Key Concepts:\n",
        "- **Axiom**: The initial state/string\n",
        "- **Production Rules**: Rules that define how to replace characters\n",
        "- **Iterations**: Number of times to apply the rules\n",
        "- **Turtle Graphics**: System for visualizing the L-System output\n",
        "\n",
        "Let's start by importing our required libraries:"
      ]
    },
    {
      "cell_type": "code",
      "execution_count": 1,
      "metadata": {
        "id": "1oZeCqrwbKvc",
        "outputId": "5128509e-b993-44d7-da11-10e8b0d395db",
        "colab": {
          "base_uri": "https://localhost:8080/"
        }
      },
      "outputs": [
        {
          "output_type": "stream",
          "name": "stdout",
          "text": [
            "Requirement already satisfied: ColabTurtle in /usr/local/lib/python3.11/dist-packages (2.1.0)\n"
          ]
        }
      ],
      "source": [
        "! pip install ColabTurtle"
      ]
    },
    {
      "cell_type": "code",
      "execution_count": 2,
      "metadata": {
        "id": "qMfNyH0SbKvc"
      },
      "outputs": [],
      "source": [
        "import ColabTurtle.Turtle as t\n",
        "from IPython.display import clear_output"
      ]
    },
    {
      "cell_type": "markdown",
      "metadata": {
        "id": "cwZGwf3rbKvc"
      },
      "source": [
        "## Part 1: Basic L-System Implementation\n",
        "\n",
        "First, let's implement our core L-System functions. These will be used throughout the lab to generate and draw various patterns."
      ]
    },
    {
      "cell_type": "code",
      "execution_count": 3,
      "metadata": {
        "id": "DcxC_FZ5bKvd"
      },
      "outputs": [],
      "source": [
        "def create_l_system(iterations, axiom, rules):\n",
        "    \"\"\"Generate L-System instructions based on axiom and rules.\"\"\"\n",
        "    result = axiom\n",
        "    for _ in range(iterations):\n",
        "        new_string = \"\"\n",
        "        for char in result:\n",
        "            new_string += rules.get(char, char)\n",
        "        result = new_string\n",
        "    return result\n",
        "\n",
        "def draw_l_system(instructions, angle, distance):\n",
        "    \"\"\"Draw the L-System using turtle graphics.\n",
        "\n",
        "    Parameters:\n",
        "    - instructions: string of L-System commands\n",
        "    - angle: turning angle in degrees\n",
        "    - distance: forward movement distance\n",
        "    \"\"\"\n",
        "    stack = []\n",
        "    for cmd in instructions:\n",
        "        if cmd == 'F':  # Move forward and draw\n",
        "            t.forward(distance)\n",
        "        elif cmd == 'f':  # Move forward without drawing\n",
        "            t.penup()\n",
        "            t.forward(distance)\n",
        "            t.pendown()\n",
        "        elif cmd == '+':  # Turn right\n",
        "            t.right(angle)\n",
        "        elif cmd == '-':  # Turn left\n",
        "            t.left(angle)\n",
        "        elif cmd == '[':  # Save current state\n",
        "            stack.append((t.position(), t.heading()))\n",
        "        elif cmd == ']':  # Restore previous state\n",
        "            position, heading = stack.pop()\n",
        "            t.penup()\n",
        "            t.goto(position)\n",
        "            t.setheading(heading)\n",
        "            t.pendown()\n",
        "\n",
        "def setup_turtle():\n",
        "        t.initializeTurtle()\n",
        "        t.hideturtle()\n",
        "        t.speed(13)  # Fastest speed\n",
        "        t.penup()\n",
        "        t.goto(t.window_width() // 2, t.window_height() - 50)  # Start position\n",
        "        t.pendown()\n"
      ]
    },
    {
      "cell_type": "markdown",
      "metadata": {
        "id": "wgKfDxftbKvd"
      },
      "source": [
        "## Exercise 1: Koch Curve\n",
        "\n",
        "The Koch curve is a classic example of a fractal pattern. Let's create it using our L-System:"
      ]
    },
    {
      "cell_type": "code",
      "execution_count": null,
      "metadata": {
        "id": "ukwfiWTabKvd"
      },
      "outputs": [],
      "source": [
        "# Koch curve parameters\n",
        "koch_axiom = \"F\"\n",
        "koch_rules = {\"F\": \"F+F-FF-F+F\"}\n",
        "koch_iterations = 3\n",
        "koch_angle = 90\n",
        "\n",
        "# Generate and draw\n",
        "setup_turtle()\n",
        "t.pensize(2)\n",
        "koch_instructions = create_l_system(koch_iterations, koch_axiom, koch_rules)\n",
        "draw_l_system(koch_instructions, koch_angle, 5)"
      ]
    },
    {
      "cell_type": "markdown",
      "metadata": {
        "id": "OIK72uXubKvd"
      },
      "source": [
        "### Exercise 1 Tasks:\n",
        "1. Try modifying the number of iterations (start with small numbers like 2-4)\n",
        "2. Change the angle to 60 degrees and observe the difference\n",
        "3. Modify the rules to create your own variation\n",
        "4. Try changing the distance parameter\n",
        "\n",
        "Note: Be careful with high iteration numbers as they can create very complex patterns!"
      ]
    },
    {
      "cell_type": "markdown",
      "metadata": {
        "id": "klYgNamWbKvd"
      },
      "source": [
        "## Exercise 2: Plant Generation\n",
        "\n",
        "Now let's create a more complex L-System that generates plant-like structures. This system uses brackets to create branches:"
      ]
    },
    {
      "cell_type": "code",
      "execution_count": null,
      "metadata": {
        "id": "WK0sxNFAbKvd"
      },
      "outputs": [],
      "source": [
        "# Plant parameters\n",
        "plant_axiom = \"X\"\n",
        "plant_rules = {\n",
        "    \"X\": \"F+[[X]-X]-F[-FX]+X\",\n",
        "    \"F\": \"FF\"\n",
        "}\n",
        "plant_iterations = 4\n",
        "plant_angle = 25\n",
        "\n",
        "# Generate and draw\n",
        "setup_turtle()\n",
        "t.pensize(1)\n",
        "plant_instructions = create_l_system(plant_iterations, plant_axiom, plant_rules)\n",
        "draw_l_system(plant_instructions, plant_angle, 10)"
      ]
    },
    {
      "cell_type": "markdown",
      "metadata": {
        "id": "Pftnusq4bKve"
      },
      "source": [
        "## Challenge: Create a Fractal Tree\n",
        "\n",
        "Now it's your turn to experiment! Below is a template for creating a fractal tree. Try modifying the parameters to create different tree shapes:"
      ]
    },
    {
      "cell_type": "code",
      "execution_count": 36,
      "metadata": {
        "id": "hsCcai2ZbKve",
        "outputId": "6cdec2ba-4355-45b1-ade6-3f6d696fca57",
        "colab": {
          "base_uri": "https://localhost:8080/",
          "height": 521
        }
      },
      "outputs": [
        {
          "output_type": "display_data",
          "data": {
            "text/plain": [
              "<IPython.core.display.HTML object>"
            ],
            "text/html": [
              "\n",
              "      <svg width=\"800\" height=\"500\">\n",
              "        <rect width=\"100%\" height=\"100%\" fill=\"black\"/>\n",
              "        <line x1=\"400\" y1=\"450\" x2=\"400.0\" y2=\"435.0\" stroke-linecap=\"round\" style=\"stroke:white;stroke-width:2\"/><line x1=\"400.0\" y1=\"435.0\" x2=\"407.5\" y2=\"422.01\" stroke-linecap=\"round\" style=\"stroke:white;stroke-width:2\"/><line x1=\"400.0\" y1=\"435.0\" x2=\"400.0\" y2=\"420.0\" stroke-linecap=\"round\" style=\"stroke:white;stroke-width:2\"/><line x1=\"400.0\" y1=\"420.0\" x2=\"392.5\" y2=\"407.01\" stroke-linecap=\"round\" style=\"stroke:white;stroke-width:2\"/><line x1=\"400.0\" y1=\"420.0\" x2=\"400.0\" y2=\"405.0\" stroke-linecap=\"round\" style=\"stroke:white;stroke-width:2\"/><line x1=\"400.0\" y1=\"405.0\" x2=\"407.5\" y2=\"392.01\" stroke-linecap=\"round\" style=\"stroke:white;stroke-width:2\"/><line x1=\"407.5\" y1=\"392.01\" x2=\"420.49\" y2=\"384.51\" stroke-linecap=\"round\" style=\"stroke:white;stroke-width:2\"/><line x1=\"407.5\" y1=\"392.01\" x2=\"415.0\" y2=\"379.02\" stroke-linecap=\"round\" style=\"stroke:white;stroke-width:2\"/><line x1=\"415.0\" y1=\"379.02\" x2=\"415.0\" y2=\"364.02\" stroke-linecap=\"round\" style=\"stroke:white;stroke-width:2\"/><line x1=\"415.0\" y1=\"379.02\" x2=\"422.5\" y2=\"366.03\" stroke-linecap=\"round\" style=\"stroke:white;stroke-width:2\"/><line x1=\"400.0\" y1=\"405.0\" x2=\"400.0\" y2=\"390.0\" stroke-linecap=\"round\" style=\"stroke:white;stroke-width:2\"/><line x1=\"400.0\" y1=\"390.0\" x2=\"407.5\" y2=\"377.01\" stroke-linecap=\"round\" style=\"stroke:white;stroke-width:2\"/><line x1=\"400.0\" y1=\"390.0\" x2=\"400.0\" y2=\"375.0\" stroke-linecap=\"round\" style=\"stroke:white;stroke-width:2\"/><line x1=\"400.0\" y1=\"375.0\" x2=\"392.5\" y2=\"362.01\" stroke-linecap=\"round\" style=\"stroke:white;stroke-width:2\"/><line x1=\"400.0\" y1=\"375.0\" x2=\"400.0\" y2=\"360.0\" stroke-linecap=\"round\" style=\"stroke:white;stroke-width:2\"/><line x1=\"400.0\" y1=\"360.0\" x2=\"392.5\" y2=\"347.01\" stroke-linecap=\"round\" style=\"stroke:white;stroke-width:2\"/><line x1=\"392.5\" y1=\"347.01\" x2=\"392.5\" y2=\"332.01\" stroke-linecap=\"round\" style=\"stroke:white;stroke-width:2\"/><line x1=\"392.5\" y1=\"347.01\" x2=\"385.0\" y2=\"334.02\" stroke-linecap=\"round\" style=\"stroke:white;stroke-width:2\"/><line x1=\"385.0\" y1=\"334.02\" x2=\"372.01\" y2=\"326.52\" stroke-linecap=\"round\" style=\"stroke:white;stroke-width:2\"/><line x1=\"385.0\" y1=\"334.02\" x2=\"377.5\" y2=\"321.03\" stroke-linecap=\"round\" style=\"stroke:white;stroke-width:2\"/><line x1=\"400.0\" y1=\"360.0\" x2=\"400.0\" y2=\"345.0\" stroke-linecap=\"round\" style=\"stroke:white;stroke-width:2\"/><line x1=\"400.0\" y1=\"345.0\" x2=\"407.5\" y2=\"332.01\" stroke-linecap=\"round\" style=\"stroke:white;stroke-width:2\"/><line x1=\"400.0\" y1=\"345.0\" x2=\"400.0\" y2=\"330.0\" stroke-linecap=\"round\" style=\"stroke:white;stroke-width:2\"/><line x1=\"400.0\" y1=\"330.0\" x2=\"392.5\" y2=\"317.01\" stroke-linecap=\"round\" style=\"stroke:white;stroke-width:2\"/><line x1=\"400.0\" y1=\"330.0\" x2=\"400.0\" y2=\"315.0\" stroke-linecap=\"round\" style=\"stroke:white;stroke-width:2\"/><line x1=\"400.0\" y1=\"315.0\" x2=\"407.5\" y2=\"302.01\" stroke-linecap=\"round\" style=\"stroke:white;stroke-width:2\"/><line x1=\"407.5\" y1=\"302.01\" x2=\"420.49\" y2=\"294.51\" stroke-linecap=\"round\" style=\"stroke:white;stroke-width:2\"/><line x1=\"407.5\" y1=\"302.01\" x2=\"415.0\" y2=\"289.02\" stroke-linecap=\"round\" style=\"stroke:white;stroke-width:2\"/><line x1=\"415.0\" y1=\"289.02\" x2=\"415.0\" y2=\"274.02\" stroke-linecap=\"round\" style=\"stroke:white;stroke-width:2\"/><line x1=\"415.0\" y1=\"289.02\" x2=\"422.5\" y2=\"276.03\" stroke-linecap=\"round\" style=\"stroke:white;stroke-width:2\"/><line x1=\"422.5\" y1=\"276.03\" x2=\"435.49\" y2=\"268.53\" stroke-linecap=\"round\" style=\"stroke:white;stroke-width:2\"/><line x1=\"435.49\" y1=\"268.53\" x2=\"450.49\" y2=\"268.53\" stroke-linecap=\"round\" style=\"stroke:white;stroke-width:2\"/><line x1=\"435.49\" y1=\"268.53\" x2=\"448.48\" y2=\"261.03\" stroke-linecap=\"round\" style=\"stroke:white;stroke-width:2\"/><line x1=\"448.48\" y1=\"261.03\" x2=\"455.98\" y2=\"248.04\" stroke-linecap=\"round\" style=\"stroke:white;stroke-width:2\"/><line x1=\"448.48\" y1=\"261.03\" x2=\"461.47\" y2=\"253.53\" stroke-linecap=\"round\" style=\"stroke:white;stroke-width:2\"/><line x1=\"422.5\" y1=\"276.03\" x2=\"430.0\" y2=\"263.04\" stroke-linecap=\"round\" style=\"stroke:white;stroke-width:2\"/><line x1=\"430.0\" y1=\"263.04\" x2=\"442.99\" y2=\"255.54\" stroke-linecap=\"round\" style=\"stroke:white;stroke-width:2\"/><line x1=\"430.0\" y1=\"263.04\" x2=\"437.5\" y2=\"250.05\" stroke-linecap=\"round\" style=\"stroke:white;stroke-width:2\"/><line x1=\"437.5\" y1=\"250.05\" x2=\"437.5\" y2=\"235.05\" stroke-linecap=\"round\" style=\"stroke:white;stroke-width:2\"/><line x1=\"437.5\" y1=\"250.05\" x2=\"445.0\" y2=\"237.06\" stroke-linecap=\"round\" style=\"stroke:white;stroke-width:2\"/><line x1=\"445.0\" y1=\"237.06\" x2=\"445.0\" y2=\"222.06\" stroke-linecap=\"round\" style=\"stroke:white;stroke-width:2\"/><line x1=\"445.0\" y1=\"222.06\" x2=\"452.5\" y2=\"209.07\" stroke-linecap=\"round\" style=\"stroke:white;stroke-width:2\"/><line x1=\"445.0\" y1=\"222.06\" x2=\"445.0\" y2=\"207.06\" stroke-linecap=\"round\" style=\"stroke:white;stroke-width:2\"/><line x1=\"445.0\" y1=\"207.06\" x2=\"437.5\" y2=\"194.07\" stroke-linecap=\"round\" style=\"stroke:white;stroke-width:2\"/><line x1=\"445.0\" y1=\"207.06\" x2=\"445.0\" y2=\"192.06\" stroke-linecap=\"round\" style=\"stroke:white;stroke-width:2\"/><line x1=\"445.0\" y1=\"237.06\" x2=\"452.5\" y2=\"224.07\" stroke-linecap=\"round\" style=\"stroke:white;stroke-width:2\"/><line x1=\"452.5\" y1=\"224.07\" x2=\"465.49\" y2=\"216.57\" stroke-linecap=\"round\" style=\"stroke:white;stroke-width:2\"/><line x1=\"452.5\" y1=\"224.07\" x2=\"460.0\" y2=\"211.08\" stroke-linecap=\"round\" style=\"stroke:white;stroke-width:2\"/><line x1=\"460.0\" y1=\"211.08\" x2=\"460.0\" y2=\"196.08\" stroke-linecap=\"round\" style=\"stroke:white;stroke-width:2\"/><line x1=\"460.0\" y1=\"211.08\" x2=\"467.5\" y2=\"198.09\" stroke-linecap=\"round\" style=\"stroke:white;stroke-width:2\"/><line x1=\"400.0\" y1=\"315.0\" x2=\"400.0\" y2=\"300.0\" stroke-linecap=\"round\" style=\"stroke:white;stroke-width:2\"/><line x1=\"400.0\" y1=\"300.0\" x2=\"407.5\" y2=\"287.01\" stroke-linecap=\"round\" style=\"stroke:white;stroke-width:2\"/><line x1=\"400.0\" y1=\"300.0\" x2=\"400.0\" y2=\"285.0\" stroke-linecap=\"round\" style=\"stroke:white;stroke-width:2\"/><line x1=\"400.0\" y1=\"285.0\" x2=\"392.5\" y2=\"272.01\" stroke-linecap=\"round\" style=\"stroke:white;stroke-width:2\"/><line x1=\"400.0\" y1=\"285.0\" x2=\"400.0\" y2=\"270.0\" stroke-linecap=\"round\" style=\"stroke:white;stroke-width:2\"/><line x1=\"400.0\" y1=\"270.0\" x2=\"407.5\" y2=\"257.01\" stroke-linecap=\"round\" style=\"stroke:white;stroke-width:2\"/><line x1=\"407.5\" y1=\"257.01\" x2=\"420.49\" y2=\"249.51\" stroke-linecap=\"round\" style=\"stroke:white;stroke-width:2\"/><line x1=\"407.5\" y1=\"257.01\" x2=\"415.0\" y2=\"244.02\" stroke-linecap=\"round\" style=\"stroke:white;stroke-width:2\"/><line x1=\"415.0\" y1=\"244.02\" x2=\"415.0\" y2=\"229.02\" stroke-linecap=\"round\" style=\"stroke:white;stroke-width:2\"/><line x1=\"415.0\" y1=\"244.02\" x2=\"422.5\" y2=\"231.03\" stroke-linecap=\"round\" style=\"stroke:white;stroke-width:2\"/><line x1=\"400.0\" y1=\"270.0\" x2=\"400.0\" y2=\"255.0\" stroke-linecap=\"round\" style=\"stroke:white;stroke-width:2\"/><line x1=\"400.0\" y1=\"255.0\" x2=\"407.5\" y2=\"242.01\" stroke-linecap=\"round\" style=\"stroke:white;stroke-width:2\"/><line x1=\"400.0\" y1=\"255.0\" x2=\"400.0\" y2=\"240.0\" stroke-linecap=\"round\" style=\"stroke:white;stroke-width:2\"/><line x1=\"400.0\" y1=\"240.0\" x2=\"392.5\" y2=\"227.01\" stroke-linecap=\"round\" style=\"stroke:white;stroke-width:2\"/><line x1=\"400.0\" y1=\"240.0\" x2=\"400.0\" y2=\"225.0\" stroke-linecap=\"round\" style=\"stroke:white;stroke-width:2\"/><line x1=\"400.0\" y1=\"225.0\" x2=\"392.5\" y2=\"212.01\" stroke-linecap=\"round\" style=\"stroke:white;stroke-width:2\"/><line x1=\"392.5\" y1=\"212.01\" x2=\"392.5\" y2=\"197.01\" stroke-linecap=\"round\" style=\"stroke:white;stroke-width:2\"/><line x1=\"392.5\" y1=\"212.01\" x2=\"385.0\" y2=\"199.02\" stroke-linecap=\"round\" style=\"stroke:white;stroke-width:2\"/><line x1=\"385.0\" y1=\"199.02\" x2=\"372.01\" y2=\"191.52\" stroke-linecap=\"round\" style=\"stroke:white;stroke-width:2\"/><line x1=\"385.0\" y1=\"199.02\" x2=\"377.5\" y2=\"186.03\" stroke-linecap=\"round\" style=\"stroke:white;stroke-width:2\"/><line x1=\"400.0\" y1=\"225.0\" x2=\"400.0\" y2=\"210.0\" stroke-linecap=\"round\" style=\"stroke:white;stroke-width:2\"/><line x1=\"400.0\" y1=\"210.0\" x2=\"407.5\" y2=\"197.01\" stroke-linecap=\"round\" style=\"stroke:white;stroke-width:2\"/><line x1=\"400.0\" y1=\"210.0\" x2=\"400.0\" y2=\"195.0\" stroke-linecap=\"round\" style=\"stroke:white;stroke-width:2\"/><line x1=\"400.0\" y1=\"195.0\" x2=\"392.5\" y2=\"182.01\" stroke-linecap=\"round\" style=\"stroke:white;stroke-width:2\"/><line x1=\"400.0\" y1=\"195.0\" x2=\"400.0\" y2=\"180.0\" stroke-linecap=\"round\" style=\"stroke:white;stroke-width:2\"/><line x1=\"400.0\" y1=\"180.0\" x2=\"392.5\" y2=\"167.01\" stroke-linecap=\"round\" style=\"stroke:white;stroke-width:2\"/><line x1=\"392.5\" y1=\"167.01\" x2=\"392.5\" y2=\"152.01\" stroke-linecap=\"round\" style=\"stroke:white;stroke-width:2\"/><line x1=\"392.5\" y1=\"167.01\" x2=\"385.0\" y2=\"154.02\" stroke-linecap=\"round\" style=\"stroke:white;stroke-width:2\"/><line x1=\"385.0\" y1=\"154.02\" x2=\"372.01\" y2=\"146.52\" stroke-linecap=\"round\" style=\"stroke:white;stroke-width:2\"/><line x1=\"385.0\" y1=\"154.02\" x2=\"377.5\" y2=\"141.03\" stroke-linecap=\"round\" style=\"stroke:white;stroke-width:2\"/><line x1=\"377.5\" y1=\"141.03\" x2=\"377.5\" y2=\"126.03\" stroke-linecap=\"round\" style=\"stroke:white;stroke-width:2\"/><line x1=\"377.5\" y1=\"126.03\" x2=\"385.0\" y2=\"113.04\" stroke-linecap=\"round\" style=\"stroke:white;stroke-width:2\"/><line x1=\"377.5\" y1=\"126.03\" x2=\"377.5\" y2=\"111.03\" stroke-linecap=\"round\" style=\"stroke:white;stroke-width:2\"/><line x1=\"377.5\" y1=\"111.03\" x2=\"370.0\" y2=\"98.04\" stroke-linecap=\"round\" style=\"stroke:white;stroke-width:2\"/><line x1=\"377.5\" y1=\"111.03\" x2=\"377.5\" y2=\"96.03\" stroke-linecap=\"round\" style=\"stroke:white;stroke-width:2\"/><line x1=\"377.5\" y1=\"141.03\" x2=\"370.0\" y2=\"128.04\" stroke-linecap=\"round\" style=\"stroke:white;stroke-width:2\"/><line x1=\"370.0\" y1=\"128.04\" x2=\"370.0\" y2=\"113.04\" stroke-linecap=\"round\" style=\"stroke:white;stroke-width:2\"/><line x1=\"370.0\" y1=\"128.04\" x2=\"362.5\" y2=\"115.05\" stroke-linecap=\"round\" style=\"stroke:white;stroke-width:2\"/><line x1=\"362.5\" y1=\"115.05\" x2=\"349.51\" y2=\"107.55\" stroke-linecap=\"round\" style=\"stroke:white;stroke-width:2\"/><line x1=\"362.5\" y1=\"115.05\" x2=\"355.0\" y2=\"102.06\" stroke-linecap=\"round\" style=\"stroke:white;stroke-width:2\"/><line x1=\"355.0\" y1=\"102.06\" x2=\"342.01\" y2=\"94.56\" stroke-linecap=\"round\" style=\"stroke:white;stroke-width:2\"/><line x1=\"342.01\" y1=\"94.56\" x2=\"334.51\" y2=\"81.57\" stroke-linecap=\"round\" style=\"stroke:white;stroke-width:2\"/><line x1=\"342.01\" y1=\"94.56\" x2=\"329.02\" y2=\"87.06\" stroke-linecap=\"round\" style=\"stroke:white;stroke-width:2\"/><line x1=\"329.02\" y1=\"87.06\" x2=\"314.02\" y2=\"87.06\" stroke-linecap=\"round\" style=\"stroke:white;stroke-width:2\"/><line x1=\"329.02\" y1=\"87.06\" x2=\"316.03\" y2=\"79.56\" stroke-linecap=\"round\" style=\"stroke:white;stroke-width:2\"/><line x1=\"355.0\" y1=\"102.06\" x2=\"347.5\" y2=\"89.07\" stroke-linecap=\"round\" style=\"stroke:white;stroke-width:2\"/><line x1=\"347.5\" y1=\"89.07\" x2=\"347.5\" y2=\"74.07\" stroke-linecap=\"round\" style=\"stroke:white;stroke-width:2\"/><line x1=\"347.5\" y1=\"89.07\" x2=\"340.0\" y2=\"76.08\" stroke-linecap=\"round\" style=\"stroke:white;stroke-width:2\"/><line x1=\"340.0\" y1=\"76.08\" x2=\"327.01\" y2=\"68.58\" stroke-linecap=\"round\" style=\"stroke:white;stroke-width:2\"/><line x1=\"340.0\" y1=\"76.08\" x2=\"332.5\" y2=\"63.09\" stroke-linecap=\"round\" style=\"stroke:white;stroke-width:2\"/><line x1=\"400.0\" y1=\"180.0\" x2=\"400.0\" y2=\"165.0\" stroke-linecap=\"round\" style=\"stroke:white;stroke-width:2\"/><line x1=\"400.0\" y1=\"165.0\" x2=\"407.5\" y2=\"152.01\" stroke-linecap=\"round\" style=\"stroke:white;stroke-width:2\"/><line x1=\"400.0\" y1=\"165.0\" x2=\"400.0\" y2=\"150.0\" stroke-linecap=\"round\" style=\"stroke:white;stroke-width:2\"/><line x1=\"400.0\" y1=\"150.0\" x2=\"392.5\" y2=\"137.01\" stroke-linecap=\"round\" style=\"stroke:white;stroke-width:2\"/><line x1=\"400.0\" y1=\"150.0\" x2=\"400.0\" y2=\"135.0\" stroke-linecap=\"round\" style=\"stroke:white;stroke-width:2\"/><line x1=\"400.0\" y1=\"135.0\" x2=\"407.5\" y2=\"122.01\" stroke-linecap=\"round\" style=\"stroke:white;stroke-width:2\"/><line x1=\"407.5\" y1=\"122.01\" x2=\"420.49\" y2=\"114.51\" stroke-linecap=\"round\" style=\"stroke:white;stroke-width:2\"/><line x1=\"407.5\" y1=\"122.01\" x2=\"415.0\" y2=\"109.02\" stroke-linecap=\"round\" style=\"stroke:white;stroke-width:2\"/><line x1=\"415.0\" y1=\"109.02\" x2=\"415.0\" y2=\"94.02\" stroke-linecap=\"round\" style=\"stroke:white;stroke-width:2\"/><line x1=\"415.0\" y1=\"109.02\" x2=\"422.5\" y2=\"96.03\" stroke-linecap=\"round\" style=\"stroke:white;stroke-width:2\"/><line x1=\"400.0\" y1=\"135.0\" x2=\"400.0\" y2=\"120.0\" stroke-linecap=\"round\" style=\"stroke:white;stroke-width:2\"/><line x1=\"400.0\" y1=\"120.0\" x2=\"407.5\" y2=\"107.01\" stroke-linecap=\"round\" style=\"stroke:white;stroke-width:2\"/><line x1=\"400.0\" y1=\"120.0\" x2=\"400.0\" y2=\"105.0\" stroke-linecap=\"round\" style=\"stroke:white;stroke-width:2\"/><line x1=\"400.0\" y1=\"105.0\" x2=\"392.5\" y2=\"92.01\" stroke-linecap=\"round\" style=\"stroke:white;stroke-width:2\"/><line x1=\"400.0\" y1=\"105.0\" x2=\"400.0\" y2=\"90.0\" stroke-linecap=\"round\" style=\"stroke:white;stroke-width:2\"/><line x1=\"400.0\" y1=\"90.0\" x2=\"392.5\" y2=\"77.01\" stroke-linecap=\"round\" style=\"stroke:white;stroke-width:2\"/><line x1=\"392.5\" y1=\"77.01\" x2=\"392.5\" y2=\"62.01\" stroke-linecap=\"round\" style=\"stroke:white;stroke-width:2\"/><line x1=\"392.5\" y1=\"77.01\" x2=\"385.0\" y2=\"64.02\" stroke-linecap=\"round\" style=\"stroke:white;stroke-width:2\"/><line x1=\"385.0\" y1=\"64.02\" x2=\"372.01\" y2=\"56.52\" stroke-linecap=\"round\" style=\"stroke:white;stroke-width:2\"/><line x1=\"385.0\" y1=\"64.02\" x2=\"377.5\" y2=\"51.03\" stroke-linecap=\"round\" style=\"stroke:white;stroke-width:2\"/><line x1=\"400.0\" y1=\"90.0\" x2=\"400.0\" y2=\"75.0\" stroke-linecap=\"round\" style=\"stroke:white;stroke-width:2\"/><line x1=\"400.0\" y1=\"75.0\" x2=\"407.5\" y2=\"62.01\" stroke-linecap=\"round\" style=\"stroke:white;stroke-width:2\"/><line x1=\"400.0\" y1=\"75.0\" x2=\"400.0\" y2=\"60.0\" stroke-linecap=\"round\" style=\"stroke:white;stroke-width:2\"/><line x1=\"400.0\" y1=\"60.0\" x2=\"392.5\" y2=\"47.01\" stroke-linecap=\"round\" style=\"stroke:white;stroke-width:2\"/><line x1=\"400.0\" y1=\"60.0\" x2=\"400.0\" y2=\"45.0\" stroke-linecap=\"round\" style=\"stroke:white;stroke-width:2\"/>\n",
              "        <g visibility=hidden transform=\"rotate(360,400.0,45.0) translate(382.0, 27.0)\">\n",
              "<path style=\" stroke:none;fill-rule:evenodd;fill:white;fill-opacity:1;\" d=\"M 18.214844 0.632812 C 16.109375 1.800781 15.011719 4.074219 15.074219 7.132812 L 15.085938 7.652344 L 14.785156 7.496094 C 13.476562 6.824219 11.957031 6.671875 10.40625 7.066406 C 8.46875 7.550781 6.515625 9.15625 4.394531 11.992188 C 3.0625 13.777344 2.679688 14.636719 3.042969 15.027344 L 3.15625 15.152344 L 3.519531 15.152344 C 4.238281 15.152344 4.828125 14.886719 8.1875 13.039062 C 9.386719 12.378906 10.371094 11.839844 10.378906 11.839844 C 10.386719 11.839844 10.355469 11.929688 10.304688 12.035156 C 9.832031 13.09375 9.257812 14.820312 8.96875 16.078125 C 7.914062 20.652344 8.617188 24.53125 11.070312 27.660156 C 11.351562 28.015625 11.363281 27.914062 10.972656 28.382812 C 8.925781 30.84375 7.945312 33.28125 8.238281 35.1875 C 8.289062 35.527344 8.28125 35.523438 8.917969 35.523438 C 10.941406 35.523438 13.074219 34.207031 15.136719 31.6875 C 15.359375 31.417969 15.328125 31.425781 15.5625 31.574219 C 16.292969 32.042969 18.023438 32.964844 18.175781 32.964844 C 18.335938 32.964844 19.941406 32.210938 20.828125 31.71875 C 20.996094 31.625 21.136719 31.554688 21.136719 31.558594 C 21.203125 31.664062 21.898438 32.414062 22.222656 32.730469 C 23.835938 34.300781 25.5625 35.132812 27.582031 35.300781 C 27.90625 35.328125 27.9375 35.308594 28.007812 34.984375 C 28.382812 33.242188 27.625 30.925781 25.863281 28.425781 L 25.542969 27.96875 L 25.699219 27.785156 C 28.945312 23.960938 29.132812 18.699219 26.257812 11.96875 L 26.207031 11.84375 L 27.945312 12.703125 C 31.53125 14.476562 32.316406 14.800781 33.03125 14.800781 C 33.976562 14.800781 33.78125 13.9375 32.472656 12.292969 C 28.519531 7.355469 25.394531 5.925781 21.921875 7.472656 L 21.558594 7.636719 L 21.578125 7.542969 C 21.699219 6.992188 21.761719 5.742188 21.699219 5.164062 C 21.496094 3.296875 20.664062 1.964844 19.003906 0.855469 C 18.480469 0.503906 18.457031 0.5 18.214844 0.632812\"/>\n",
              "</g>\n",
              "      </svg>\n",
              "    "
            ]
          },
          "metadata": {}
        }
      ],
      "source": [
        "# Your fractal tree parameters\n",
        "tree_axiom = \"F\"  # Start with a single trunk\n",
        "tree_rules = {\"F\": \"F[+F]F[-F]F\"}  # Basic branching rule\n",
        "tree_iterations = 3\n",
        "tree_angle = 30\n",
        "\n",
        "# Generate and draw\n",
        "setup_turtle()\n",
        "t.pensize(2)\n",
        "tree_instructions = create_l_system(tree_iterations, tree_axiom, tree_rules)\n",
        "draw_l_system(tree_instructions, tree_angle, 15)"
      ]
    },
    {
      "cell_type": "markdown",
      "metadata": {
        "id": "Af7obuBKbKve"
      },
      "source": [
        "### Challenge Tasks:\n",
        "1. Modify the rules to create more realistic branching\n",
        "2. Add different colors for different parts of the tree\n",
        "3. Try to create a tree with varying branch lengths\n",
        "4. Experiment with asymmetric branching patterns\n",
        "\n",
        "## Additional Experiments\n",
        "Here are some ideas for further exploration:\n",
        "- Create a snowflake pattern\n",
        "- Generate a spiral pattern\n",
        "- Implement a dragon curve\n",
        "- Create a forest of different trees\n",
        "\n",
        "Tips:\n",
        "- Higher iterations create more complex patterns but take longer to draw\n",
        "- Small changes in rules can create dramatically different results\n",
        "- The angle parameter greatly affects the final appearance\n",
        "- Remember to close turtle windows between experiments"
      ]
    }
  ],
  "metadata": {
    "kernelspec": {
      "display_name": "iat460",
      "language": "python",
      "name": "python3"
    },
    "language_info": {
      "codemirror_mode": {
        "name": "ipython",
        "version": 3
      },
      "file_extension": ".py",
      "mimetype": "text/x-python",
      "name": "python",
      "nbconvert_exporter": "python",
      "pygments_lexer": "ipython3",
      "version": "3.9.21"
    },
    "colab": {
      "provenance": []
    }
  },
  "nbformat": 4,
  "nbformat_minor": 0
}